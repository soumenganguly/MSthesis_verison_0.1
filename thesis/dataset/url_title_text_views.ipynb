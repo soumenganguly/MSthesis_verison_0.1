{
 "cells": [
  {
   "cell_type": "code",
   "execution_count": 1,
   "metadata": {},
   "outputs": [],
   "source": [
    "import pickle"
   ]
  },
  {
   "cell_type": "code",
   "execution_count": 7,
   "metadata": {},
   "outputs": [],
   "source": [
    "a = open('url_to_title_to_text/url_text_pdf_2015_final.pkl','rb')"
   ]
  },
  {
   "cell_type": "code",
   "execution_count": 8,
   "metadata": {},
   "outputs": [],
   "source": [
    "pdf_2015 = pickle.load(a)"
   ]
  },
  {
   "cell_type": "code",
   "execution_count": 10,
   "metadata": {},
   "outputs": [],
   "source": [
    "a.close()"
   ]
  },
  {
   "cell_type": "code",
   "execution_count": 26,
   "metadata": {},
   "outputs": [],
   "source": [
    "x=set(pdf_2015.keys()).union(set(poli_2015.keys()))"
   ]
  },
  {
   "cell_type": "code",
   "execution_count": 27,
   "metadata": {},
   "outputs": [],
   "source": [
    "y=x.union(set(pul_2015.keys()))"
   ]
  },
  {
   "cell_type": "code",
   "execution_count": 28,
   "metadata": {},
   "outputs": [],
   "source": [
    "z=y.union(set(pul_2016.keys()))"
   ]
  },
  {
   "cell_type": "code",
   "execution_count": 29,
   "metadata": {},
   "outputs": [],
   "source": [
    "i=z.union(set(umb_2015.keys()))"
   ]
  },
  {
   "cell_type": "code",
   "execution_count": 30,
   "metadata": {},
   "outputs": [],
   "source": [
    "j=i.union(set(umb_2016.keys()))"
   ]
  },
  {
   "cell_type": "code",
   "execution_count": 31,
   "metadata": {},
   "outputs": [
    {
     "data": {
      "text/plain": [
       "3519355"
      ]
     },
     "execution_count": 31,
     "metadata": {},
     "output_type": "execute_result"
    }
   ],
   "source": [
    "len(j)"
   ]
  },
  {
   "cell_type": "code",
   "execution_count": 1,
   "metadata": {},
   "outputs": [],
   "source": [
    "b=open('url_to_user_agent/PDF/url_to_agent_timestamp.pkl','rb')"
   ]
  },
  {
   "cell_type": "code",
   "execution_count": 217,
   "metadata": {},
   "outputs": [
    {
     "ename": "NameError",
     "evalue": "name 'b' is not defined",
     "output_type": "error",
     "traceback": [
      "\u001b[0;31m---------------------------------------------------------------------------\u001b[0m",
      "\u001b[0;31mNameError\u001b[0m                                 Traceback (most recent call last)",
      "\u001b[0;32m<ipython-input-217-6d17adbc763e>\u001b[0m in \u001b[0;36m<module>\u001b[0;34m()\u001b[0m\n\u001b[0;32m----> 1\u001b[0;31m \u001b[0mb\u001b[0m\u001b[0;34m.\u001b[0m\u001b[0mclose\u001b[0m\u001b[0;34m(\u001b[0m\u001b[0;34m)\u001b[0m\u001b[0;34m\u001b[0m\u001b[0m\n\u001b[0m",
      "\u001b[0;31mNameError\u001b[0m: name 'b' is not defined"
     ]
    }
   ],
   "source": [
    "b.close()"
   ]
  },
  {
   "cell_type": "code",
   "execution_count": 4,
   "metadata": {},
   "outputs": [],
   "source": [
    "pdf_all_urls_2015 = pickle.load(b)"
   ]
  },
  {
   "cell_type": "code",
   "execution_count": 5,
   "metadata": {},
   "outputs": [],
   "source": [
    "b.close()"
   ]
  },
  {
   "cell_type": "code",
   "execution_count": 6,
   "metadata": {},
   "outputs": [
    {
     "data": {
      "text/plain": [
       "1320892"
      ]
     },
     "execution_count": 6,
     "metadata": {},
     "output_type": "execute_result"
    }
   ],
   "source": [
    "len(pdf_all_urls_2015)"
   ]
  },
  {
   "cell_type": "code",
   "execution_count": 211,
   "metadata": {},
   "outputs": [],
   "source": [
    "a = open('../daily_visits_stats_per_location/daily-visits-PDF-2016_modified.txt','rb')"
   ]
  },
  {
   "cell_type": "code",
   "execution_count": 212,
   "metadata": {},
   "outputs": [],
   "source": [
    "r=a.read()"
   ]
  },
  {
   "cell_type": "code",
   "execution_count": 213,
   "metadata": {},
   "outputs": [],
   "source": [
    "s=r.replace('\\t','  ')"
   ]
  },
  {
   "cell_type": "code",
   "execution_count": 214,
   "metadata": {},
   "outputs": [
    {
     "data": {
      "text/plain": [
       "'1  1  9733\\n1  2  10244\\n1  3  11196\\n1  4  11590\\n1  5  11409\\n1  6  12907\\n1  7  11922\\n1  8  11158\\n1  9  13064\\n1  10  13666\\n1  11  13074\\n1  12  11828\\n1  13  11244\\n1  14  11415\\n1  15  10610\\n1  16  11463\\n1  17  11856\\n1  18  11162\\n1  19  12289\\n1  20  12508\\n1  21  11127\\n1  22  9842\\n1  23  11219\\n1  24  12580\\n1  25  11994\\n1  26  11026\\n1  27  11158\\n1  28  11667\\n1  29  11067\\n1  30  11958\\n1  31  13164\\n2  1  12941\\n2  2  11919\\n2  3  11447\\n2  4  11330\\n2  5  10181\\n2  6  11461\\n2  7  13693\\n2  8  10646\\n2  9  12361\\n2  10  12218\\n2  11  13097\\n2  12  12530\\n2  13  13413\\n2  14  16231\\n2  15  12068\\n2  16  10819\\n2  17  11868\\n2  18  11397\\n2  19  11333\\n2  20  11854\\n2  21  12671\\n2  22  11541\\n2  23  12525\\n2  24  11597\\n2  25  11356\\n2  26  10142\\n2  27  12644\\n2  28  13388\\n2  29  14000\\n3  1  11275\\n3  2  11056\\n3  3  10868\\n3  4  10312\\n3  5  12008\\n3  6  11980\\n3  7  10654\\n3  8  9782\\n3  9  10412\\n3  10  10126\\n3  11  10554\\n3  12  11136\\n3  13  13003\\n3  14  11216\\n3  15  10786\\n3  16  13601\\n3  17  11077\\n3  18  9506\\n3  19  10951\\n3  20  13186\\n3  21  11361\\n3  22  13338\\n3  23  10780\\n3  24  10530\\n3  25  10347\\n3  26  9176\\n3  27  8329\\n3  28  10593\\n3  29  10905\\n3  30  10967\\n3  31  12048\\n4  1  10531\\n4  2  11479\\n4  3  14357\\n4  4  12135\\n4  5  11096\\n4  6  10316\\n4  7  11503\\n4  8  11646\\n4  9  11102\\n4  10  11598\\n4  11  11087\\n4  12  12013\\n4  13  11513\\n4  14  10033\\n4  15  10288\\n4  16  11083\\n4  17  15555\\n4  18  13112\\n4  19  10689\\n4  20  11122\\n4  21  11174\\n4  22  9568\\n4  23  10927\\n4  24  11447\\n4  25  11822\\n4  26  10411\\n4  27  10277\\n4  28  10345\\n4  29  10307\\n4  30  11724\\n5  1  13937\\n5  2  12019\\n5  3  11469\\n5  4  10700\\n5  5  10858\\n5  6  10210\\n5  7  11397\\n5  8  681\\n'"
      ]
     },
     "execution_count": 214,
     "metadata": {},
     "output_type": "execute_result"
    }
   ],
   "source": [
    "s"
   ]
  },
  {
   "cell_type": "code",
   "execution_count": 215,
   "metadata": {},
   "outputs": [],
   "source": [
    "data=s.split('\\n')"
   ]
  },
  {
   "cell_type": "code",
   "execution_count": 216,
   "metadata": {},
   "outputs": [
    {
     "data": {
      "text/plain": [
       "['1  1  9733',\n",
       " '1  2  10244',\n",
       " '1  3  11196',\n",
       " '1  4  11590',\n",
       " '1  5  11409',\n",
       " '1  6  12907',\n",
       " '1  7  11922',\n",
       " '1  8  11158',\n",
       " '1  9  13064',\n",
       " '1  10  13666',\n",
       " '1  11  13074',\n",
       " '1  12  11828',\n",
       " '1  13  11244',\n",
       " '1  14  11415',\n",
       " '1  15  10610',\n",
       " '1  16  11463',\n",
       " '1  17  11856',\n",
       " '1  18  11162',\n",
       " '1  19  12289',\n",
       " '1  20  12508',\n",
       " '1  21  11127',\n",
       " '1  22  9842',\n",
       " '1  23  11219',\n",
       " '1  24  12580',\n",
       " '1  25  11994',\n",
       " '1  26  11026',\n",
       " '1  27  11158',\n",
       " '1  28  11667',\n",
       " '1  29  11067',\n",
       " '1  30  11958',\n",
       " '1  31  13164',\n",
       " '2  1  12941',\n",
       " '2  2  11919',\n",
       " '2  3  11447',\n",
       " '2  4  11330',\n",
       " '2  5  10181',\n",
       " '2  6  11461',\n",
       " '2  7  13693',\n",
       " '2  8  10646',\n",
       " '2  9  12361',\n",
       " '2  10  12218',\n",
       " '2  11  13097',\n",
       " '2  12  12530',\n",
       " '2  13  13413',\n",
       " '2  14  16231',\n",
       " '2  15  12068',\n",
       " '2  16  10819',\n",
       " '2  17  11868',\n",
       " '2  18  11397',\n",
       " '2  19  11333',\n",
       " '2  20  11854',\n",
       " '2  21  12671',\n",
       " '2  22  11541',\n",
       " '2  23  12525',\n",
       " '2  24  11597',\n",
       " '2  25  11356',\n",
       " '2  26  10142',\n",
       " '2  27  12644',\n",
       " '2  28  13388',\n",
       " '2  29  14000',\n",
       " '3  1  11275',\n",
       " '3  2  11056',\n",
       " '3  3  10868',\n",
       " '3  4  10312',\n",
       " '3  5  12008',\n",
       " '3  6  11980',\n",
       " '3  7  10654',\n",
       " '3  8  9782',\n",
       " '3  9  10412',\n",
       " '3  10  10126',\n",
       " '3  11  10554',\n",
       " '3  12  11136',\n",
       " '3  13  13003',\n",
       " '3  14  11216',\n",
       " '3  15  10786',\n",
       " '3  16  13601',\n",
       " '3  17  11077',\n",
       " '3  18  9506',\n",
       " '3  19  10951',\n",
       " '3  20  13186',\n",
       " '3  21  11361',\n",
       " '3  22  13338',\n",
       " '3  23  10780',\n",
       " '3  24  10530',\n",
       " '3  25  10347',\n",
       " '3  26  9176',\n",
       " '3  27  8329',\n",
       " '3  28  10593',\n",
       " '3  29  10905',\n",
       " '3  30  10967',\n",
       " '3  31  12048',\n",
       " '4  1  10531',\n",
       " '4  2  11479',\n",
       " '4  3  14357',\n",
       " '4  4  12135',\n",
       " '4  5  11096',\n",
       " '4  6  10316',\n",
       " '4  7  11503',\n",
       " '4  8  11646',\n",
       " '4  9  11102',\n",
       " '4  10  11598',\n",
       " '4  11  11087',\n",
       " '4  12  12013',\n",
       " '4  13  11513',\n",
       " '4  14  10033',\n",
       " '4  15  10288',\n",
       " '4  16  11083',\n",
       " '4  17  15555',\n",
       " '4  18  13112',\n",
       " '4  19  10689',\n",
       " '4  20  11122',\n",
       " '4  21  11174',\n",
       " '4  22  9568',\n",
       " '4  23  10927',\n",
       " '4  24  11447',\n",
       " '4  25  11822',\n",
       " '4  26  10411',\n",
       " '4  27  10277',\n",
       " '4  28  10345',\n",
       " '4  29  10307',\n",
       " '4  30  11724',\n",
       " '5  1  13937',\n",
       " '5  2  12019',\n",
       " '5  3  11469',\n",
       " '5  4  10700',\n",
       " '5  5  10858',\n",
       " '5  6  10210',\n",
       " '5  7  11397',\n",
       " '5  8  681',\n",
       " '']"
      ]
     },
     "execution_count": 216,
     "metadata": {},
     "output_type": "execute_result"
    }
   ],
   "source": [
    "data"
   ]
  },
  {
   "cell_type": "code",
   "execution_count": 167,
   "metadata": {},
   "outputs": [],
   "source": [
    "jan = []\n",
    "for i in data:\n",
    "    a=i.split('\\t')\n",
    "    if a[0] == '5':\n",
    "        jan.append(i)"
   ]
  },
  {
   "cell_type": "code",
   "execution_count": 168,
   "metadata": {},
   "outputs": [
    {
     "data": {
      "text/plain": [
       "2"
      ]
     },
     "execution_count": 168,
     "metadata": {},
     "output_type": "execute_result"
    }
   ],
   "source": [
    "len(jan)"
   ]
  },
  {
   "cell_type": "code",
   "execution_count": 198,
   "metadata": {},
   "outputs": [
    {
     "name": "stdout",
     "output_type": "stream",
     "text": [
      "Week 1\n",
      "Week 2\n",
      "Week 3\n",
      "Week 4\n",
      "Week 5\n",
      "Week 6\n",
      "Week 7\n",
      "Week 8\n",
      "Week 9\n",
      "Week 10\n",
      "Week 11\n",
      "Week 12\n",
      "Week 13\n",
      "Week 14\n",
      "Week 15\n",
      "Week 16\n",
      "Week 17\n",
      "Week 18\n",
      "Week 19\n",
      "Week 20\n",
      "Week 21\n",
      "Week 22\n",
      "Week 23\n",
      "Week 24\n",
      "Week 25\n",
      "Week 26\n",
      "Week 27\n",
      "Week 28\n",
      "Week 29\n",
      "Week 30\n",
      "Week 31\n",
      "Week 32\n",
      "Week 33\n",
      "Week 34\n",
      "Week 35\n",
      "Week 36\n",
      "Week 37\n",
      "Week 38\n",
      "Week 39\n",
      "Week 40\n",
      "Week 41\n",
      "Week 42\n",
      "Week 43\n",
      "Week 44\n",
      "Week 45\n",
      "Week 46\n",
      "Week 47\n",
      "Week 48\n",
      "Week 49\n",
      "Week 50\n",
      "Week 51\n",
      "Week 52\n"
     ]
    }
   ],
   "source": [
    "week = {}\n",
    "k=0\n",
    "for i in range(52):\n",
    "    views = []\n",
    "    #print \"Week %d\"%(i+1)\n",
    "    #print data[k:k+7]\n",
    "    for j in data[k:k+7]:\n",
    "        views.append(j.split('  ')[2])\n",
    "    sum = 0\n",
    "    for value in views:\n",
    "        sum = sum + int(value)\n",
    "    week[(i+1)] = sum\n",
    "    k=k+7\n",
    "        "
   ]
  },
  {
   "cell_type": "code",
   "execution_count": 208,
   "metadata": {},
   "outputs": [
    {
     "data": {
      "text/plain": [
       "83227"
      ]
     },
     "execution_count": 208,
     "metadata": {},
     "output_type": "execute_result"
    }
   ],
   "source": [
    "week[14]"
   ]
  },
  {
   "cell_type": "code",
   "execution_count": null,
   "metadata": {},
   "outputs": [],
   "source": [
    "views = []\n",
    "for i in data:\n",
    "    \n",
    "    "
   ]
  },
  {
   "cell_type": "code",
   "execution_count": 209,
   "metadata": {},
   "outputs": [],
   "source": [
    "x = range(1,53)"
   ]
  },
  {
   "cell_type": "code",
   "execution_count": 210,
   "metadata": {},
   "outputs": [
    {
     "data": {
      "text/plain": [
       "[1,\n",
       " 2,\n",
       " 3,\n",
       " 4,\n",
       " 5,\n",
       " 6,\n",
       " 7,\n",
       " 8,\n",
       " 9,\n",
       " 10,\n",
       " 11,\n",
       " 12,\n",
       " 13,\n",
       " 14,\n",
       " 15,\n",
       " 16,\n",
       " 17,\n",
       " 18,\n",
       " 19,\n",
       " 20,\n",
       " 21,\n",
       " 22,\n",
       " 23,\n",
       " 24,\n",
       " 25,\n",
       " 26,\n",
       " 27,\n",
       " 28,\n",
       " 29,\n",
       " 30,\n",
       " 31,\n",
       " 32,\n",
       " 33,\n",
       " 34,\n",
       " 35,\n",
       " 36,\n",
       " 37,\n",
       " 38,\n",
       " 39,\n",
       " 40,\n",
       " 41,\n",
       " 42,\n",
       " 43,\n",
       " 44,\n",
       " 45,\n",
       " 46,\n",
       " 47,\n",
       " 48,\n",
       " 49,\n",
       " 50,\n",
       " 51,\n",
       " 52]"
      ]
     },
     "execution_count": 210,
     "metadata": {},
     "output_type": "execute_result"
    }
   ],
   "source": [
    "x"
   ]
  },
  {
   "cell_type": "code",
   "execution_count": 31,
   "metadata": {},
   "outputs": [],
   "source": [
    "a=open('url_to_user_agent/POLI/2015/url_to_agent_timestamp.pkl','rb')"
   ]
  },
  {
   "cell_type": "code",
   "execution_count": 32,
   "metadata": {},
   "outputs": [],
   "source": [
    "p=pickle.load(a)"
   ]
  },
  {
   "cell_type": "code",
   "execution_count": 17,
   "metadata": {},
   "outputs": [
    {
     "data": {
      "text/plain": [
       "0.5516704514543671"
      ]
     },
     "execution_count": 17,
     "metadata": {},
     "output_type": "execute_result"
    }
   ],
   "source": [
    "from __future__ import division\n",
    "count/len(p)"
   ]
  },
  {
   "cell_type": "code",
   "execution_count": 34,
   "metadata": {},
   "outputs": [
    {
     "name": "stdout",
     "output_type": "stream",
     "text": [
      "902497\n"
     ]
    }
   ],
   "source": [
    "count = 0\n",
    "for i in p:\n",
    "    for agent in p[i]:\n",
    "        if 'scrapy' in agent[1]:\n",
    "            #print agent[1]\n",
    "            count+=1\n",
    "print count"
   ]
  },
  {
   "cell_type": "code",
   "execution_count": 33,
   "metadata": {},
   "outputs": [
    {
     "data": {
      "text/plain": [
       "1635935"
      ]
     },
     "execution_count": 33,
     "metadata": {},
     "output_type": "execute_result"
    }
   ],
   "source": [
    "len(p)"
   ]
  },
  {
   "cell_type": "code",
   "execution_count": null,
   "metadata": {},
   "outputs": [],
   "source": []
  }
 ],
 "metadata": {
  "kernelspec": {
   "display_name": "Python 2",
   "language": "python",
   "name": "python2"
  },
  "language_info": {
   "codemirror_mode": {
    "name": "ipython",
    "version": 2
   },
   "file_extension": ".py",
   "mimetype": "text/x-python",
   "name": "python",
   "nbconvert_exporter": "python",
   "pygments_lexer": "ipython2",
   "version": "2.7.12"
  }
 },
 "nbformat": 4,
 "nbformat_minor": 2
}
